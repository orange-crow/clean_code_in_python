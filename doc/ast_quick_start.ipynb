{
 "cells": [
  {
   "cell_type": "code",
   "execution_count": 1,
   "metadata": {},
   "outputs": [
    {
     "name": "stdout",
     "output_type": "stream",
     "text": [
      "Module(\n",
      "  body=[\n",
      "    Assign(\n",
      "      targets=[\n",
      "        Name(id='x', ctx=Store())],\n",
      "      value=BinOp(\n",
      "        left=Constant(value=1),\n",
      "        op=Add(),\n",
      "        right=Constant(value=2)))],\n",
      "  type_ignores=[])\n"
     ]
    }
   ],
   "source": [
    "import ast\n",
    "import astor\n",
    "\n",
    "code = \"x = 1 + 2\"\n",
    "tree = ast.parse(code)\n",
    "\n",
    "print(ast.dump(tree, indent=2))"
   ]
  },
  {
   "cell_type": "markdown",
   "metadata": {},
   "source": [
    "这个输出是一个 AST 树的表示，它描述了代码 x = 1 + 2 的结构。让我们逐层解析这个树。\n",
    "\n",
    "1. Module\n",
    "\n",
    "表示整个代码块。在 Python 中，ast.parse 返回的是一个 Module 节点，它包含了一个 body 列表，表示模块中的所有语句。\n",
    "\n",
    "2. body\n",
    "\n",
    "Module 节点的 body 属性是一个列表，包含了模块中的所有语句。在这个例子中，body 列表中只有一个元素。\n",
    "\n",
    "3. Assign\n",
    "\n",
    "- Assign：表示赋值语句。在这个例子中，Assign 节点表示 x = 1 + 2 这个赋值操作。\n",
    "- targets：Assign 节点的 targets 属性是一个列表，表示赋值操作的目标。在这个例子中，目标是一个变量 x。\n",
    "- ctx：上下文，表示这个变量是如何使用的。在这个例子中，ctx 是 Store()，表示这个变量是被赋值的目标。\n",
    "- value：Assign 节点的 value 属性表示赋值操作的右侧表达式。在这个例子中，右侧是一个二元操作 1 + 2。\n",
    "\n",
    "总结\n",
    "通过这个解析，我们可以看到 ast.dump(tree) 输出的 AST 树结构是如何表示代码 x = 1 + 2 的。每个节点都代表了代码中的一个语法结构，从模块到赋值语句，再到具体的操作数和操作符。"
   ]
  },
  {
   "cell_type": "markdown",
   "metadata": {},
   "source": [
    "同样地，可以使用ast构造这样的赋值语句，如下："
   ]
  },
  {
   "cell_type": "code",
   "execution_count": 2,
   "metadata": {},
   "outputs": [
    {
     "name": "stdout",
     "output_type": "stream",
     "text": [
      "x = 1 + 2\n",
      "\n"
     ]
    }
   ],
   "source": [
    "# 创建一个加法表达式\n",
    "addition = ast.BinOp(\n",
    "    left=ast.Constant(value=1),\n",
    "    op=ast.Add(),\n",
    "    right=ast.Constant(value=2)\n",
    ")\n",
    "\n",
    "# 创建一个赋值语句\n",
    "assignment = ast.Assign(\n",
    "    targets=[ast.Name(id='x', ctx=ast.Store())],\n",
    "    value=addition\n",
    ")\n",
    "\n",
    "# 创建一个模块，并将赋值语句添加到模块的 body 中\n",
    "module = ast.Module(body=[assignment], type_ignores=[])\n",
    "\n",
    "# 将 AST 转换回代码\n",
    "code = astor.to_source(module)\n",
    "\n",
    "print(code)"
   ]
  },
  {
   "cell_type": "code",
   "execution_count": 3,
   "metadata": {},
   "outputs": [
    {
     "name": "stdout",
     "output_type": "stream",
     "text": [
      "try:\n",
      "    x = 1 + 2\n",
      "except Exception as e:\n",
      "    print('An error occurred', e)\n",
      "\n"
     ]
    }
   ],
   "source": [
    "# 创建 try-except 块\n",
    "try_body = tree.body  # 原始代码的 AST 节点\n",
    "\n",
    "# 创建 except 块\n",
    "except_body = [\n",
    "    ast.Expr(value=ast.Call(\n",
    "        func=ast.Name(id='print', ctx=ast.Load()),\n",
    "        args=[ast.Constant(value=\"An error occurred\"), ast.Name(id='e', ctx=ast.Load())],\n",
    "        keywords=[]\n",
    "        )\n",
    "    )\n",
    "]\n",
    "\n",
    "# 创建 try-except 节点\n",
    "try_except = ast.Try(\n",
    "    body=try_body,\n",
    "    handlers=[ast.ExceptHandler(\n",
    "        type=ast.Name(id='Exception', ctx=ast.Load()),  # 捕获 Exception 异常\n",
    "        name='e',  # 将异常赋值给变量 e\n",
    "        body=except_body\n",
    "    )],\n",
    "    orelse=[],\n",
    "    finalbody=[]\n",
    ")\n",
    "\n",
    "# 替换原来的代码块\n",
    "tree.body = [try_except]\n",
    "\n",
    "# 将 AST 转换回代码\n",
    "new_code = astor.to_source(tree)\n",
    "\n",
    "print(new_code)"
   ]
  }
 ],
 "metadata": {
  "kernelspec": {
   "display_name": "base",
   "language": "python",
   "name": "python3"
  },
  "language_info": {
   "codemirror_mode": {
    "name": "ipython",
    "version": 3
   },
   "file_extension": ".py",
   "mimetype": "text/x-python",
   "name": "python",
   "nbconvert_exporter": "python",
   "pygments_lexer": "ipython3",
   "version": "3.9.17"
  }
 },
 "nbformat": 4,
 "nbformat_minor": 2
}
